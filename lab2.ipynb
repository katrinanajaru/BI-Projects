{
 "cells": [
  {
   "cell_type": "code",
   "execution_count": 2,
   "id": "b57cc9fe-330b-49ed-a61f-c65643c7b27e",
   "metadata": {},
   "outputs": [],
   "source": [
    "import numpy as np\n",
    "import pandas as pd\n"
   ]
  },
  {
   "cell_type": "code",
   "execution_count": 3,
   "id": "1c96d03a-877b-4fa0-9371-48f7fde50b65",
   "metadata": {},
   "outputs": [],
   "source": [
    "df = pd.read_csv(\"VideoGamesSalesDataset.csv\")\n"
   ]
  },
  {
   "cell_type": "code",
   "execution_count": 4,
   "id": "2dbf266e-aff4-4fd1-9527-091683f66e03",
   "metadata": {},
   "outputs": [
    {
     "data": {
      "text/html": [
       "<div>\n",
       "<style scoped>\n",
       "    .dataframe tbody tr th:only-of-type {\n",
       "        vertical-align: middle;\n",
       "    }\n",
       "\n",
       "    .dataframe tbody tr th {\n",
       "        vertical-align: top;\n",
       "    }\n",
       "\n",
       "    .dataframe thead th {\n",
       "        text-align: right;\n",
       "    }\n",
       "</style>\n",
       "<table border=\"1\" class=\"dataframe\">\n",
       "  <thead>\n",
       "    <tr style=\"text-align: right;\">\n",
       "      <th></th>\n",
       "      <th>Name,Platform,Year_of_Release,Genre,Publisher,NA_Sales,EU_Sales,JP_Sales,Other_Sales,Global_Sales,Critic_Score,Critic_Count,User_Score,User_Count,Rating</th>\n",
       "    </tr>\n",
       "  </thead>\n",
       "  <tbody>\n",
       "    <tr>\n",
       "      <th>0</th>\n",
       "      <td>Wii Sports,Wii,2006,Sports,Nintendo,41.36,28.9...</td>\n",
       "    </tr>\n",
       "    <tr>\n",
       "      <th>1</th>\n",
       "      <td>Super Mario Bros.,NES,1985,Platform,Nintendo,2...</td>\n",
       "    </tr>\n",
       "    <tr>\n",
       "      <th>2</th>\n",
       "      <td>Mario Kart Wii,Wii,2008,Racing,Nintendo,15.68,...</td>\n",
       "    </tr>\n",
       "    <tr>\n",
       "      <th>3</th>\n",
       "      <td>Wii Sports Resort,Wii,2009,Sports,Nintendo,15....</td>\n",
       "    </tr>\n",
       "    <tr>\n",
       "      <th>4</th>\n",
       "      <td>Pokemon Red/Pokemon Blue,G,1996,Role-Playing,N...</td>\n",
       "    </tr>\n",
       "  </tbody>\n",
       "</table>\n",
       "</div>"
      ],
      "text/plain": [
       "  Name,Platform,Year_of_Release,Genre,Publisher,NA_Sales,EU_Sales,JP_Sales,Other_Sales,Global_Sales,Critic_Score,Critic_Count,User_Score,User_Count,Rating\n",
       "0  Wii Sports,Wii,2006,Sports,Nintendo,41.36,28.9...                                                                                                      \n",
       "1  Super Mario Bros.,NES,1985,Platform,Nintendo,2...                                                                                                      \n",
       "2  Mario Kart Wii,Wii,2008,Racing,Nintendo,15.68,...                                                                                                      \n",
       "3  Wii Sports Resort,Wii,2009,Sports,Nintendo,15....                                                                                                      \n",
       "4  Pokemon Red/Pokemon Blue,G,1996,Role-Playing,N...                                                                                                      "
      ]
     },
     "execution_count": 4,
     "metadata": {},
     "output_type": "execute_result"
    }
   ],
   "source": [
    "df.head()\n"
   ]
  },
  {
   "cell_type": "code",
   "execution_count": 5,
   "id": "46f92222-a91b-44a5-a0aa-3de4a811d2a8",
   "metadata": {},
   "outputs": [
    {
     "data": {
      "text/plain": [
       "(17416, 1)"
      ]
     },
     "execution_count": 5,
     "metadata": {},
     "output_type": "execute_result"
    }
   ],
   "source": [
    "df.shape  # Returns (rows, columns)\n"
   ]
  },
  {
   "cell_type": "code",
   "execution_count": 6,
   "id": "1df59376-a884-4fd8-8776-5053a3622dd6",
   "metadata": {},
   "outputs": [
    {
     "data": {
      "text/html": [
       "<div>\n",
       "<style scoped>\n",
       "    .dataframe tbody tr th:only-of-type {\n",
       "        vertical-align: middle;\n",
       "    }\n",
       "\n",
       "    .dataframe tbody tr th {\n",
       "        vertical-align: top;\n",
       "    }\n",
       "\n",
       "    .dataframe thead th {\n",
       "        text-align: right;\n",
       "    }\n",
       "</style>\n",
       "<table border=\"1\" class=\"dataframe\">\n",
       "  <thead>\n",
       "    <tr style=\"text-align: right;\">\n",
       "      <th></th>\n",
       "      <th>Name,Platform,Year_of_Release,Genre,Publisher,NA_Sales,EU_Sales,JP_Sales,Other_Sales,Global_Sales,Critic_Score,Critic_Count,User_Score,User_Count,Rating</th>\n",
       "    </tr>\n",
       "  </thead>\n",
       "  <tbody>\n",
       "    <tr>\n",
       "      <th>0</th>\n",
       "      <td>False</td>\n",
       "    </tr>\n",
       "    <tr>\n",
       "      <th>1</th>\n",
       "      <td>False</td>\n",
       "    </tr>\n",
       "    <tr>\n",
       "      <th>2</th>\n",
       "      <td>False</td>\n",
       "    </tr>\n",
       "    <tr>\n",
       "      <th>3</th>\n",
       "      <td>False</td>\n",
       "    </tr>\n",
       "    <tr>\n",
       "      <th>4</th>\n",
       "      <td>False</td>\n",
       "    </tr>\n",
       "    <tr>\n",
       "      <th>...</th>\n",
       "      <td>...</td>\n",
       "    </tr>\n",
       "    <tr>\n",
       "      <th>17411</th>\n",
       "      <td>False</td>\n",
       "    </tr>\n",
       "    <tr>\n",
       "      <th>17412</th>\n",
       "      <td>False</td>\n",
       "    </tr>\n",
       "    <tr>\n",
       "      <th>17413</th>\n",
       "      <td>False</td>\n",
       "    </tr>\n",
       "    <tr>\n",
       "      <th>17414</th>\n",
       "      <td>False</td>\n",
       "    </tr>\n",
       "    <tr>\n",
       "      <th>17415</th>\n",
       "      <td>False</td>\n",
       "    </tr>\n",
       "  </tbody>\n",
       "</table>\n",
       "<p>17416 rows × 1 columns</p>\n",
       "</div>"
      ],
      "text/plain": [
       "       Name,Platform,Year_of_Release,Genre,Publisher,NA_Sales,EU_Sales,JP_Sales,Other_Sales,Global_Sales,Critic_Score,Critic_Count,User_Score,User_Count,Rating\n",
       "0                                                  False                                                                                                       \n",
       "1                                                  False                                                                                                       \n",
       "2                                                  False                                                                                                       \n",
       "3                                                  False                                                                                                       \n",
       "4                                                  False                                                                                                       \n",
       "...                                                  ...                                                                                                       \n",
       "17411                                              False                                                                                                       \n",
       "17412                                              False                                                                                                       \n",
       "17413                                              False                                                                                                       \n",
       "17414                                              False                                                                                                       \n",
       "17415                                              False                                                                                                       \n",
       "\n",
       "[17416 rows x 1 columns]"
      ]
     },
     "execution_count": 6,
     "metadata": {},
     "output_type": "execute_result"
    }
   ],
   "source": [
    "df.isnull()\n"
   ]
  },
  {
   "cell_type": "code",
   "execution_count": 7,
   "id": "26061c70-f165-4b3e-908a-3fa2ebe0ed34",
   "metadata": {},
   "outputs": [
    {
     "data": {
      "text/plain": [
       "Name,Platform,Year_of_Release,Genre,Publisher,NA_Sales,EU_Sales,JP_Sales,Other_Sales,Global_Sales,Critic_Score,Critic_Count,User_Score,User_Count,Rating    False\n",
       "dtype: bool"
      ]
     },
     "execution_count": 7,
     "metadata": {},
     "output_type": "execute_result"
    }
   ],
   "source": [
    "df.isnull().any()\n"
   ]
  },
  {
   "cell_type": "code",
   "execution_count": 8,
   "id": "51f78c57-35b6-4bcf-a52c-e53092fba18e",
   "metadata": {},
   "outputs": [
    {
     "data": {
      "text/plain": [
       "Name,Platform,Year_of_Release,Genre,Publisher,NA_Sales,EU_Sales,JP_Sales,Other_Sales,Global_Sales,Critic_Score,Critic_Count,User_Score,User_Count,Rating    0\n",
       "dtype: int64"
      ]
     },
     "execution_count": 8,
     "metadata": {},
     "output_type": "execute_result"
    }
   ],
   "source": [
    "df.isnull().sum()\n"
   ]
  },
  {
   "cell_type": "code",
   "execution_count": 9,
   "id": "1f76d166-fd97-49ff-9f55-26e5cd84d64e",
   "metadata": {},
   "outputs": [
    {
     "name": "stdout",
     "output_type": "stream",
     "text": [
      "False\n"
     ]
    }
   ],
   "source": [
    "print(df.isnull().values.any())\n"
   ]
  },
  {
   "cell_type": "code",
   "execution_count": 10,
   "id": "8a3a4159-15c7-4ccb-8ea7-b0f72d4e09f7",
   "metadata": {},
   "outputs": [],
   "source": [
    "df_no_missing = df.dropna()\n"
   ]
  },
  {
   "cell_type": "code",
   "execution_count": 11,
   "id": "5b499bea-36fc-4e64-a656-725631a5686c",
   "metadata": {},
   "outputs": [
    {
     "data": {
      "text/plain": [
       "Name,Platform,Year_of_Release,Genre,Publisher,NA_Sales,EU_Sales,JP_Sales,Other_Sales,Global_Sales,Critic_Score,Critic_Count,User_Score,User_Count,Rating    0\n",
       "dtype: int64"
      ]
     },
     "execution_count": 11,
     "metadata": {},
     "output_type": "execute_result"
    }
   ],
   "source": [
    "df_no_missing.isnull().sum()\n"
   ]
  },
  {
   "cell_type": "code",
   "execution_count": 12,
   "id": "0093e9a0-926c-4a17-bbbd-1b3632e8b922",
   "metadata": {},
   "outputs": [
    {
     "data": {
      "text/plain": [
       "(17416, 1)"
      ]
     },
     "execution_count": 12,
     "metadata": {},
     "output_type": "execute_result"
    }
   ],
   "source": [
    "df_cleaned = df.dropna(how='all')\n",
    "df_cleaned.shape  # Check new shape\n"
   ]
  },
  {
   "cell_type": "code",
   "execution_count": 13,
   "id": "1808d519-1544-45b8-b8e2-0384e00d105e",
   "metadata": {},
   "outputs": [
    {
     "data": {
      "text/plain": [
       "(17416, 1)"
      ]
     },
     "execution_count": 13,
     "metadata": {},
     "output_type": "execute_result"
    }
   ],
   "source": [
    "df_without_columns = df.dropna(axis=1, how='all')\n",
    "df_without_columns.shape  # Check new shape\n"
   ]
  },
  {
   "cell_type": "code",
   "execution_count": 14,
   "id": "1ac1af46-55d6-4d9f-8b91-b425c74914df",
   "metadata": {},
   "outputs": [
    {
     "data": {
      "text/plain": [
       "(0, 1)"
      ]
     },
     "execution_count": 14,
     "metadata": {},
     "output_type": "execute_result"
    }
   ],
   "source": [
    "df_filtered = df.dropna(thresh=5)\n",
    "df_filtered.shape  # Check new shape\n"
   ]
  },
  {
   "cell_type": "code",
   "execution_count": 15,
   "id": "741eff1b-0348-41ff-b3ad-ddb922a7db11",
   "metadata": {},
   "outputs": [
    {
     "data": {
      "text/plain": [
       "(17416, 1)"
      ]
     },
     "execution_count": 15,
     "metadata": {},
     "output_type": "execute_result"
    }
   ],
   "source": [
    "df.shape  # Compare with previous shapes\n"
   ]
  }
 ],
 "metadata": {
  "kernelspec": {
   "display_name": "Python 3 (ipykernel)",
   "language": "python",
   "name": "python3"
  },
  "language_info": {
   "codemirror_mode": {
    "name": "ipython",
    "version": 3
   },
   "file_extension": ".py",
   "mimetype": "text/x-python",
   "name": "python",
   "nbconvert_exporter": "python",
   "pygments_lexer": "ipython3",
   "version": "3.12.2"
  }
 },
 "nbformat": 4,
 "nbformat_minor": 5
}
